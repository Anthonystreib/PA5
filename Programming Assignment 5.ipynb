{
 "cells": [
  {
   "cell_type": "markdown",
   "id": "1e7390a3",
   "metadata": {},
   "source": [
    "## Task 1"
   ]
  },
  {
   "cell_type": "code",
   "execution_count": 1,
   "id": "3ad22a2b",
   "metadata": {},
   "outputs": [],
   "source": [
    "translation_dict = {\n",
    "    'couch': 'canapé',\n",
    "    'chair': 'chaise',\n",
    "    'cat': 'chatte',\n",
    "    'dog': 'chien'}"
   ]
  },
  {
   "cell_type": "code",
   "execution_count": 2,
   "id": "1b6310ae",
   "metadata": {},
   "outputs": [
    {
     "name": "stdout",
     "output_type": "stream",
     "text": [
      "Enter a word to translate from English to French (enter 0 to stop):\n",
      "dog\n",
      "The French word for DOG is chien.\n",
      "Enter a word to translate from English to French (enter 0 to stop):\n",
      "0\n"
     ]
    }
   ],
   "source": [
    "while True:\n",
    "    word = input(\"Enter a word to translate from English to French (enter 0 to stop):\\n\").lower()\n",
    "    \n",
    "    if word == '0':\n",
    "        break\n",
    "    \n",
    "    if word in translation_dict:\n",
    "        translation = translation_dict[word]\n",
    "        if translation == 'outside this dictionary':\n",
    "            print(f\"The French word for {word.upper()} is {translation}.\")\n",
    "        else:\n",
    "            print(f\"The French word for {word.upper()} is {translation}.\")\n",
    "    else:\n",
    "        print(f\"The word not found in the dictionary.\")\n"
   ]
  },
  {
   "cell_type": "markdown",
   "id": "2955a5b6",
   "metadata": {},
   "source": [
    "## Task 2"
   ]
  },
  {
   "cell_type": "code",
   "execution_count": 3,
   "id": "1c3d722b",
   "metadata": {},
   "outputs": [],
   "source": [
    "temp_dict = { 'Day1': 89, 'Day2': 76, 'Day3': 82, 'Day4': 78, 'Day5': 84,\n",
    "    'Day6': 76, 'Day7': 79, 'Day8': 88, 'Day9': 91, 'Day10': 83,\n",
    "    'Day11': 75, 'Day12': 80, 'Day13': 89, 'Day14': 86, 'Day15': 81,\n",
    "    'Day16': 78, 'Day17': 79, 'Day18': 77, 'Day19': 85, 'Day20': 87,\n",
    "    'Day21': 79, 'Day22': 76, 'Day23': 83, 'Day24': 88, 'Day25': 82,\n",
    "    'Day26': 84, 'Day27': 81, 'Day28': 79, 'Day29': 77, 'Day30': 75}\n"
   ]
  },
  {
   "cell_type": "code",
   "execution_count": 4,
   "id": "226e9409",
   "metadata": {},
   "outputs": [],
   "source": [
    "for day, temp_f in temp_dict.items():\n",
    "    temp_c = (temp_f - 32) * 5/9\n",
    "    temp_dict[day] = (temp_f, round(temp_c))"
   ]
  },
  {
   "cell_type": "code",
   "execution_count": 5,
   "id": "d2471e9f",
   "metadata": {},
   "outputs": [
    {
     "data": {
      "text/plain": [
       "{'Day1': (89, 32),\n",
       " 'Day2': (76, 24),\n",
       " 'Day3': (82, 28),\n",
       " 'Day4': (78, 26),\n",
       " 'Day5': (84, 29),\n",
       " 'Day6': (76, 24),\n",
       " 'Day7': (79, 26),\n",
       " 'Day8': (88, 31),\n",
       " 'Day9': (91, 33),\n",
       " 'Day10': (83, 28),\n",
       " 'Day11': (75, 24),\n",
       " 'Day12': (80, 27),\n",
       " 'Day13': (89, 32),\n",
       " 'Day14': (86, 30),\n",
       " 'Day15': (81, 27),\n",
       " 'Day16': (78, 26),\n",
       " 'Day17': (79, 26),\n",
       " 'Day18': (77, 25),\n",
       " 'Day19': (85, 29),\n",
       " 'Day20': (87, 31),\n",
       " 'Day21': (79, 26),\n",
       " 'Day22': (76, 24),\n",
       " 'Day23': (83, 28),\n",
       " 'Day24': (88, 31),\n",
       " 'Day25': (82, 28),\n",
       " 'Day26': (84, 29),\n",
       " 'Day27': (81, 27),\n",
       " 'Day28': (79, 26),\n",
       " 'Day29': (77, 25),\n",
       " 'Day30': (75, 24)}"
      ]
     },
     "execution_count": 5,
     "metadata": {},
     "output_type": "execute_result"
    }
   ],
   "source": [
    "temp_dict"
   ]
  },
  {
   "cell_type": "markdown",
   "id": "3f399694",
   "metadata": {},
   "source": [
    "## Task 3"
   ]
  },
  {
   "cell_type": "code",
   "execution_count": 7,
   "id": "197e09e1",
   "metadata": {},
   "outputs": [
    {
     "data": {
      "text/plain": [
       "{1: 1,\n",
       " 2: 4,\n",
       " 3: 9,\n",
       " 4: 16,\n",
       " 5: 25,\n",
       " 6: 36,\n",
       " 7: 49,\n",
       " 8: 64,\n",
       " 9: 81,\n",
       " 10: 100,\n",
       " 11: 121,\n",
       " 12: 144,\n",
       " 13: 169,\n",
       " 14: 196,\n",
       " 15: 225}"
      ]
     },
     "execution_count": 7,
     "metadata": {},
     "output_type": "execute_result"
    }
   ],
   "source": [
    "squares_dict = {num: num**2 for num in range(1, 16)}\n",
    "squares_dict"
   ]
  },
  {
   "cell_type": "markdown",
   "id": "7ffcf1e9",
   "metadata": {},
   "source": [
    "## Task 4"
   ]
  },
  {
   "cell_type": "code",
   "execution_count": 8,
   "id": "e53a2381",
   "metadata": {},
   "outputs": [
    {
     "name": "stdout",
     "output_type": "stream",
     "text": [
      "Enter your name (or '0' to stop):\n",
      "anthony\n",
      "Enter your age:\n",
      "18\n",
      "Enter your email:\n",
      "boyman@gmail.com\n",
      "Enter your city:\n",
      "chicago\n",
      "User profile added successfully!\n",
      "Enter your name (or '0' to stop):\n",
      "0\n"
     ]
    }
   ],
   "source": [
    "user_profiles = {}\n",
    "\n",
    "while True:\n",
    "    name = input(\"Enter your name (or '0' to stop):\\n\")\n",
    "    \n",
    "    if name == '0':\n",
    "        break\n",
    "    \n",
    "    age = int(input(\"Enter your age:\\n\"))\n",
    "    email = input(\"Enter your email:\\n\")\n",
    "    city = input(\"Enter your city:\\n\")\n",
    "\n",
    "    user_profiles[name] = {\n",
    "        'age': age,\n",
    "        'email': email,\n",
    "        'city': city\n",
    "    }\n",
    "    print(\"User profile added successfully!\")"
   ]
  },
  {
   "cell_type": "code",
   "execution_count": 9,
   "id": "c02f8672",
   "metadata": {},
   "outputs": [
    {
     "name": "stdout",
     "output_type": "stream",
     "text": [
      "Enter a name to search for (or '0' to exit):\n",
      "Evan\n",
      "User not found in the user profiles.\n"
     ]
    }
   ],
   "source": [
    "search_name = input(\"Enter a name to search for (or '0' to exit):\\n\")\n",
    "if search_name in user_profiles.keys():\n",
    "    profile = user_profiles[search_name]\n",
    "    print(\"User Profile:\")\n",
    "    print(f\"Name: {search_name}\")\n",
    "    print(f\"Age: {profile['age']}\")\n",
    "    print(f\"Email: {profile['email']}\")\n",
    "    print(f\"City: {profile['city']}\")\n",
    "else:\n",
    "    print(\"User not found in the user profiles.\")"
   ]
  }
 ],
 "metadata": {
  "kernelspec": {
   "display_name": "Python 3 (ipykernel)",
   "language": "python",
   "name": "python3"
  },
  "language_info": {
   "codemirror_mode": {
    "name": "ipython",
    "version": 3
   },
   "file_extension": ".py",
   "mimetype": "text/x-python",
   "name": "python",
   "nbconvert_exporter": "python",
   "pygments_lexer": "ipython3",
   "version": "3.11.4"
  }
 },
 "nbformat": 4,
 "nbformat_minor": 5
}
